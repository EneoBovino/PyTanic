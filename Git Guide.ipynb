{
 "cells": [
  {
   "cell_type": "markdown",
   "metadata": {},
   "source": [
    "git init\n",
    "git status\n",
    "git config --global user.name \"Fulano de Tal\"\n",
    "git config --global user.email fulanodetal@exemplo.br\n",
    "git clone https://github.com/EneoBovino/PyTanic #Somente se necessário\n",
    "git add -A #Adiciona todos as modificações\n",
    "git checkout -b iss53 #Cria a branch nova e vai para ela"
   ]
  }
 ],
 "metadata": {
  "kernelspec": {
   "display_name": "Python 3.6",
   "language": "python",
   "name": "python36"
  },
  "language_info": {
   "codemirror_mode": {
    "name": "ipython",
    "version": 3
   },
   "file_extension": ".py",
   "mimetype": "text/x-python",
   "name": "python",
   "nbconvert_exporter": "python",
   "pygments_lexer": "ipython3",
   "version": "3.6.0"
  }
 },
 "nbformat": 4,
 "nbformat_minor": 2
}
